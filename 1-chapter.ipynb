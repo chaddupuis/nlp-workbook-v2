{
 "cells": [
  {
   "cell_type": "code",
   "execution_count": 40,
   "id": "2eb0efc5-a6c0-4997-97ac-664216262f26",
   "metadata": {},
   "outputs": [],
   "source": [
    "sherlock_text = open(\"./data/text-repo/Python-Natural-Language-Processing-Cookbook-Second-Edition/data/sherlock_holmes_1.txt\", \"r\", encoding=\"utf-8\")\n"
   ]
  },
  {
   "cell_type": "code",
   "execution_count": 41,
   "id": "890e122e-8528-4e7e-9d54-2b915ea010a6",
   "metadata": {},
   "outputs": [],
   "source": [
    "sherlock_text = sherlock_text.read()"
   ]
  },
  {
   "cell_type": "code",
   "execution_count": 4,
   "id": "bdd3c54b-ee61-48dc-a35a-7b9dfafc496d",
   "metadata": {},
   "outputs": [
    {
     "data": {
      "text/plain": [
       "'To Sherlock Holmes she is always _the_ woman. I have seldom heard him\\nmention her under any other name. In his eyes she eclipses and\\npredominates the whole of her sex. It was not that he felt any emotion\\nakin to love for Irene Adler. All emotions, and that one particularly,\\nwere abhorrent to his cold, precise but admirably balanced mind. He\\nwas, I take it, the most perfect reasoning and observing machine that\\nthe world has seen, but as a lover he would have placed himself in a\\nfalse position. He never spoke of the softer passions, save with a gibe\\nand a sneer. They were admirable things for the observer—excellent for\\ndrawing the veil from men’s motives and actions. But for the trained\\nreasoner to admit such intrusions into his own delicate and finely\\nadjusted temperament was to introduce a distracting factor which might\\nthrow a doubt upon all his mental results. Grit in a sensitive\\ninstrument, or a crack in one of his own high-power lenses, would not\\nbe more disturbing than a strong emotion in a nature such as his. And\\nyet there was but one woman to him, and that woman was the late Irene\\nAdler, of dubious and questionable memory.'"
      ]
     },
     "execution_count": 4,
     "metadata": {},
     "output_type": "execute_result"
    }
   ],
   "source": [
    "sherlock_text"
   ]
  },
  {
   "cell_type": "code",
   "execution_count": 5,
   "id": "160965c9-88c3-4631-b4bd-10ec5935fdda",
   "metadata": {},
   "outputs": [],
   "source": [
    "import nltk;"
   ]
  },
  {
   "cell_type": "code",
   "execution_count": 8,
   "id": "300369a0-8d76-4750-a310-23fcd3c86bb4",
   "metadata": {},
   "outputs": [
    {
     "name": "stderr",
     "output_type": "stream",
     "text": [
      "[nltk_data] Downloading package punkt to /root/nltk_data...\n",
      "[nltk_data]   Package punkt is already up-to-date!\n",
      "[nltk_data] Downloading package punkt_tab to /root/nltk_data...\n",
      "[nltk_data]   Unzipping tokenizers/punkt_tab.zip.\n"
     ]
    },
    {
     "data": {
      "text/plain": [
       "True"
      ]
     },
     "execution_count": 8,
     "metadata": {},
     "output_type": "execute_result"
    }
   ],
   "source": [
    "nltk.download('punkt')\n",
    "nltk.download('punkt_tab')"
   ]
  },
  {
   "cell_type": "code",
   "execution_count": 43,
   "id": "ee54f206-aec1-4b33-aefd-3e80ea9bd6e7",
   "metadata": {},
   "outputs": [],
   "source": [
    "tokenizer = nltk.data.load(\"tokenizers/punkt/english.pickle\")"
   ]
  },
  {
   "cell_type": "code",
   "execution_count": 10,
   "id": "8b0fb55e-4070-4e65-b08c-cb1a4d7afc21",
   "metadata": {},
   "outputs": [
    {
     "data": {
      "text/plain": [
       "<nltk.tokenize.punkt.PunktTokenizer at 0x7b31083a6600>"
      ]
     },
     "execution_count": 10,
     "metadata": {},
     "output_type": "execute_result"
    }
   ],
   "source": [
    "tokenizer\n"
   ]
  },
  {
   "cell_type": "code",
   "execution_count": 11,
   "id": "fc8f4ddf-7ec4-4059-a96a-375e7af17fea",
   "metadata": {},
   "outputs": [],
   "source": [
    "sentences_nltk = tokenizer.tokenize(sherlock_text)"
   ]
  },
  {
   "cell_type": "code",
   "execution_count": 12,
   "id": "f79883a3-89f8-4cd8-a055-7d91437056cb",
   "metadata": {},
   "outputs": [
    {
     "name": "stdout",
     "output_type": "stream",
     "text": [
      "To Sherlock Holmes she is always _the_ woman. I have seldom heard him\n",
      "mention her under any other name. In his eyes she eclipses and\n",
      "predominates the whole of her sex. It was not that he felt any emotion\n",
      "akin to love for Irene Adler. All emotions, and that one particularly,\n",
      "were abhorrent to his cold, precise but admirably balanced mind. He\n",
      "was, I take it, the most perfect reasoning and observing machine that\n",
      "the world has seen, but as a lover he would have placed himself in a\n",
      "false position. He never spoke of the softer passions, save with a gibe\n",
      "and a sneer. They were admirable things for the observer—excellent for\n",
      "drawing the veil from men’s motives and actions. But for the trained\n",
      "reasoner to admit such intrusions into his own delicate and finely\n",
      "adjusted temperament was to introduce a distracting factor which might\n",
      "throw a doubt upon all his mental results. Grit in a sensitive\n",
      "instrument, or a crack in one of his own high-power lenses, would not\n",
      "be more disturbing than a strong emotion in a nature such as his. And\n",
      "yet there was but one woman to him, and that woman was the late Irene\n",
      "Adler, of dubious and questionable memory.\n"
     ]
    }
   ],
   "source": [
    "print(sherlock_text)"
   ]
  },
  {
   "cell_type": "code",
   "execution_count": 13,
   "id": "7ed4682d-0da4-4f61-9976-eb62f1f48bc0",
   "metadata": {},
   "outputs": [
    {
     "name": "stdout",
     "output_type": "stream",
     "text": [
      "['To Sherlock Holmes she is always _the_ woman.', 'I have seldom heard him\\nmention her under any other name.', 'In his eyes she eclipses and\\npredominates the whole of her sex.', 'It was not that he felt any emotion\\nakin to love for Irene Adler.', 'All emotions, and that one particularly,\\nwere abhorrent to his cold, precise but admirably balanced mind.', 'He\\nwas, I take it, the most perfect reasoning and observing machine that\\nthe world has seen, but as a lover he would have placed himself in a\\nfalse position.', 'He never spoke of the softer passions, save with a gibe\\nand a sneer.', 'They were admirable things for the observer—excellent for\\ndrawing the veil from men’s motives and actions.', 'But for the trained\\nreasoner to admit such intrusions into his own delicate and finely\\nadjusted temperament was to introduce a distracting factor which might\\nthrow a doubt upon all his mental results.', 'Grit in a sensitive\\ninstrument, or a crack in one of his own high-power lenses, would not\\nbe more disturbing than a strong emotion in a nature such as his.', 'And\\nyet there was but one woman to him, and that woman was the late Irene\\nAdler, of dubious and questionable memory.']\n"
     ]
    }
   ],
   "source": [
    "print(sentences_nltk)"
   ]
  },
  {
   "cell_type": "code",
   "execution_count": 14,
   "id": "f7fa07e3-94c3-47a8-bf2b-d6b8f68ca0c2",
   "metadata": {},
   "outputs": [
    {
     "name": "stdout",
     "output_type": "stream",
     "text": [
      "11\n"
     ]
    }
   ],
   "source": [
    "print(len(sentences_nltk))"
   ]
  },
  {
   "cell_type": "code",
   "execution_count": 45,
   "id": "6981d6fc-53ef-441b-88f1-23cfd8b107c1",
   "metadata": {},
   "outputs": [],
   "source": [
    "import spacy\n",
    "# https://spacy.io/usage/models"
   ]
  },
  {
   "cell_type": "code",
   "execution_count": 17,
   "id": "1f999e2e-0a81-4bf4-aa90-ca2f82e0230d",
   "metadata": {},
   "outputs": [
    {
     "data": {
      "text/plain": [
       "'3.8.7'"
      ]
     },
     "execution_count": 17,
     "metadata": {},
     "output_type": "execute_result"
    }
   ],
   "source": [
    "spacy.__version__"
   ]
  },
  {
   "cell_type": "code",
   "execution_count": 18,
   "id": "79291f83-2598-465c-afcb-ede9ccd4e71e",
   "metadata": {},
   "outputs": [
    {
     "name": "stdout",
     "output_type": "stream",
     "text": [
      "Collecting en-core-web-sm==3.8.0\n",
      "  Downloading https://github.com/explosion/spacy-models/releases/download/en_core_web_sm-3.8.0/en_core_web_sm-3.8.0-py3-none-any.whl (12.8 MB)\n",
      "\u001b[2K     \u001b[90m━━━━━━━━━━━━━━━━━━━━━━━━━━━━━━━━━━━━━━━━\u001b[0m \u001b[32m12.8/12.8 MB\u001b[0m \u001b[31m37.2 MB/s\u001b[0m eta \u001b[36m0:00:00\u001b[0m \u001b[36m0:00:01\u001b[0m\n",
      "\u001b[?25hInstalling collected packages: en-core-web-sm\n",
      "Successfully installed en-core-web-sm-3.8.0\n",
      "\u001b[38;5;2m✔ Download and installation successful\u001b[0m\n",
      "You can now load the package via spacy.load('en_core_web_sm')\n"
     ]
    }
   ],
   "source": [
    "!python -m spacy download en_core_web_sm"
   ]
  },
  {
   "cell_type": "code",
   "execution_count": 19,
   "id": "fb5c4642-ec9f-44a5-92ca-ba788e30539b",
   "metadata": {},
   "outputs": [],
   "source": [
    "nlp = spacy.load(\"en_core_web_sm\")"
   ]
  },
  {
   "cell_type": "code",
   "execution_count": 20,
   "id": "e3588b5b-449a-4ef5-846e-a22266fc7e14",
   "metadata": {},
   "outputs": [
    {
     "data": {
      "text/plain": [
       "<spacy.lang.en.English at 0x7b31084283e0>"
      ]
     },
     "execution_count": 20,
     "metadata": {},
     "output_type": "execute_result"
    }
   ],
   "source": [
    "nlp\n"
   ]
  },
  {
   "cell_type": "code",
   "execution_count": 26,
   "id": "69dce241-b75b-4744-aaa8-ee03d28428c6",
   "metadata": {},
   "outputs": [],
   "source": [
    "doc = nlp(sherlock_text)"
   ]
  },
  {
   "cell_type": "code",
   "execution_count": 32,
   "id": "db2438a4-f935-47b3-a430-ffa641f7cfd1",
   "metadata": {},
   "outputs": [
    {
     "data": {
      "text/plain": [
       "To Sherlock Holmes she is always _the_ woman. I have seldom heard him\n",
       "mention her under any other name. In his eyes she eclipses and\n",
       "predominates the whole of her sex. It was not that he felt any emotion\n",
       "akin to love for Irene Adler. All emotions, and that one particularly,\n",
       "were abhorrent to his cold, precise but admirably balanced mind. He\n",
       "was, I take it, the most perfect reasoning and observing machine that\n",
       "the world has seen, but as a lover he would have placed himself in a\n",
       "false position. He never spoke of the softer passions, save with a gibe\n",
       "and a sneer. They were admirable things for the observer—excellent for\n",
       "drawing the veil from men’s motives and actions. But for the trained\n",
       "reasoner to admit such intrusions into his own delicate and finely\n",
       "adjusted temperament was to introduce a distracting factor which might\n",
       "throw a doubt upon all his mental results. Grit in a sensitive\n",
       "instrument, or a crack in one of his own high-power lenses, would not\n",
       "be more disturbing than a strong emotion in a nature such as his. And\n",
       "yet there was but one woman to him, and that woman was the late Irene\n",
       "Adler, of dubious and questionable memory."
      ]
     },
     "execution_count": 32,
     "metadata": {},
     "output_type": "execute_result"
    }
   ],
   "source": [
    "doc"
   ]
  },
  {
   "cell_type": "code",
   "execution_count": 33,
   "id": "654f64c1-0d49-4d40-a1f1-d99d9a936fce",
   "metadata": {},
   "outputs": [],
   "source": [
    "sentences_spacy = [sentence.text for sentence in doc.sents]"
   ]
  },
  {
   "cell_type": "code",
   "execution_count": null,
   "id": "32ba0504-ecf7-4bfc-81c9-9323f5f5de2c",
   "metadata": {},
   "outputs": [],
   "source": []
  },
  {
   "cell_type": "code",
   "execution_count": null,
   "id": "175439db-fb52-4944-b952-60c741b6ebef",
   "metadata": {},
   "outputs": [],
   "source": []
  },
  {
   "cell_type": "code",
   "execution_count": null,
   "id": "f3e11143-7e88-4799-a89c-baee4d4ed5d7",
   "metadata": {},
   "outputs": [],
   "source": []
  },
  {
   "cell_type": "code",
   "execution_count": 36,
   "id": "bd75ec2e-a15a-4790-a6ec-4abd968ba07f",
   "metadata": {},
   "outputs": [
    {
     "name": "stdout",
     "output_type": "stream",
     "text": [
      "['To Sherlock Holmes she is always _the_ woman.', 'I have seldom heard him\\nmention her under any other name.', 'In his eyes she eclipses and\\npredominates the whole of her sex.', 'It was not that he felt any emotion\\nakin to love for Irene Adler.', 'All emotions, and that one particularly,\\nwere abhorrent to his cold, precise but admirably balanced mind.', 'He\\nwas, I take it, the most perfect reasoning and observing machine that\\nthe world has seen, but as a lover he would have placed himself in a\\nfalse position.', 'He never spoke of the softer passions, save with a gibe\\nand a sneer.', 'They were admirable things for the observer—excellent for\\ndrawing the veil from men’s motives and actions.', 'But for the trained\\nreasoner to admit such intrusions into his own delicate and finely\\nadjusted temperament was to introduce a distracting factor which might\\nthrow a doubt upon all his mental results.', 'Grit in a sensitive\\ninstrument, or a crack in one of his own high-power lenses, would not\\nbe more disturbing than a strong emotion in a nature such as his.', 'And\\nyet there was but one woman to him, and that woman was the late Irene\\nAdler, of dubious and questionable memory.']\n",
      "11\n"
     ]
    }
   ],
   "source": [
    "print(sentences_spacy)\n",
    "print(len(sentences_spacy))"
   ]
  },
  {
   "cell_type": "code",
   "execution_count": 37,
   "id": "1bafa23a-e3a5-4021-b315-1c62b0540f57",
   "metadata": {},
   "outputs": [],
   "source": [
    "import time"
   ]
  },
  {
   "cell_type": "code",
   "execution_count": 44,
   "id": "08d59e6e-7d6b-4da6-87fc-bd74f889ed1e",
   "metadata": {},
   "outputs": [
    {
     "name": "stdout",
     "output_type": "stream",
     "text": [
      "nltk: 0.0005807876586914062 s\n",
      "spacy: 0.05781221389770508 s\n"
     ]
    }
   ],
   "source": [
    "def split_into_sentences_nltk(text):\n",
    "    sentences = tokenizer.tokenize(text)\n",
    "    return sentences\n",
    "\n",
    "def split_into_sentences_spacy(text):\n",
    "    doc = nlp(text)\n",
    "    sentences = [sentence.text for sentence in doc.sents]\n",
    "    return sentences\n",
    "\n",
    "start = time.time()\n",
    "split_into_sentences_nltk(sherlock_text)\n",
    "print(f'nltk: {time.time() - start} s')\n",
    "\n",
    "\n",
    "start = time.time()\n",
    "split_into_sentences_spacy(sherlock_text)\n",
    "print(f'spacy: {time.time() - start} s')\n"
   ]
  },
  {
   "cell_type": "code",
   "execution_count": null,
   "id": "762b8ae9-4378-453d-b844-3d6344b98f21",
   "metadata": {},
   "outputs": [],
   "source": []
  }
 ],
 "metadata": {
  "kernelspec": {
   "display_name": "Python 3 (ipykernel)",
   "language": "python",
   "name": "python3"
  },
  "language_info": {
   "codemirror_mode": {
    "name": "ipython",
    "version": 3
   },
   "file_extension": ".py",
   "mimetype": "text/x-python",
   "name": "python",
   "nbconvert_exporter": "python",
   "pygments_lexer": "ipython3",
   "version": "3.12.10"
  }
 },
 "nbformat": 4,
 "nbformat_minor": 5
}
